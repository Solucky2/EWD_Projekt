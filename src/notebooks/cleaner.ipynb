{
 "cells": [
  {
   "cell_type": "code",
   "id": "initial_id",
   "metadata": {
    "collapsed": true,
    "ExecuteTime": {
     "end_time": "2025-01-27T20:22:53.742524Z",
     "start_time": "2025-01-27T20:22:53.703537Z"
    }
   },
   "source": [
    "import pandas as pd\n",
    "import numpy as np\n",
    "\n",
    "df = pd.read_csv(r'raw/output_otomotoBest.csv')\n",
    "df.head()"
   ],
   "outputs": [
    {
     "data": {
      "text/plain": [
       "  fuel_type   gearbox    mileage   model        name  \\\n",
       "0   Benzyna  Manualna  62 000 km  Abarth  Abarth 595   \n",
       "1   Benzyna  Manualna  56 800 km  Abarth  Abarth 695   \n",
       "2   Benzyna  Manualna  59 000 km  Abarth  Abarth 595   \n",
       "3   Benzyna  Manualna  80 089 km  Abarth  Abarth 595   \n",
       "4   Benzyna  Manualna  33 000 km  Abarth  Abarth 595   \n",
       "\n",
       "                            place   price          seller_type  \\\n",
       "0  Bydgoszcz (Kujawsko-pomorskie)  63 000  Prywatny sprzedawca   \n",
       "1         Bielsko-Biała (Śląskie)  99 000  Prywatny sprzedawca   \n",
       "2          Warszawa (Mazowieckie)  71 000  Prywatny sprzedawca   \n",
       "3               Jaworze (Śląskie)  59 500  Prywatny sprzedawca   \n",
       "4       Wojcieszów (Dolnośląskie)  70 000                  NaN   \n",
       "\n",
       "                                          users_data  year  \n",
       "0  1 368 cm3 • 145 KM • Abarth 595 70th Aniversar...  2019  \n",
       "1  1 368 cm3 • 165 KM • ABARTH 695C XSR YAMAHA ca...  2018  \n",
       "2  1 368 cm3 • 165 KM • Abarth 595 - 165 KM | 59 ...  2018  \n",
       "3  1 368 cm3 • 164 KM • fiat 500 Abarth C w wersj...  2016  \n",
       "4  1 368 cm3 • 145 KM • Bardzo ładny ABARTH 595 w...  2021  "
      ],
      "text/html": [
       "<div>\n",
       "<style scoped>\n",
       "    .dataframe tbody tr th:only-of-type {\n",
       "        vertical-align: middle;\n",
       "    }\n",
       "\n",
       "    .dataframe tbody tr th {\n",
       "        vertical-align: top;\n",
       "    }\n",
       "\n",
       "    .dataframe thead th {\n",
       "        text-align: right;\n",
       "    }\n",
       "</style>\n",
       "<table border=\"1\" class=\"dataframe\">\n",
       "  <thead>\n",
       "    <tr style=\"text-align: right;\">\n",
       "      <th></th>\n",
       "      <th>fuel_type</th>\n",
       "      <th>gearbox</th>\n",
       "      <th>mileage</th>\n",
       "      <th>model</th>\n",
       "      <th>name</th>\n",
       "      <th>place</th>\n",
       "      <th>price</th>\n",
       "      <th>seller_type</th>\n",
       "      <th>users_data</th>\n",
       "      <th>year</th>\n",
       "    </tr>\n",
       "  </thead>\n",
       "  <tbody>\n",
       "    <tr>\n",
       "      <th>0</th>\n",
       "      <td>Benzyna</td>\n",
       "      <td>Manualna</td>\n",
       "      <td>62 000 km</td>\n",
       "      <td>Abarth</td>\n",
       "      <td>Abarth 595</td>\n",
       "      <td>Bydgoszcz (Kujawsko-pomorskie)</td>\n",
       "      <td>63 000</td>\n",
       "      <td>Prywatny sprzedawca</td>\n",
       "      <td>1 368 cm3 • 145 KM • Abarth 595 70th Aniversar...</td>\n",
       "      <td>2019</td>\n",
       "    </tr>\n",
       "    <tr>\n",
       "      <th>1</th>\n",
       "      <td>Benzyna</td>\n",
       "      <td>Manualna</td>\n",
       "      <td>56 800 km</td>\n",
       "      <td>Abarth</td>\n",
       "      <td>Abarth 695</td>\n",
       "      <td>Bielsko-Biała (Śląskie)</td>\n",
       "      <td>99 000</td>\n",
       "      <td>Prywatny sprzedawca</td>\n",
       "      <td>1 368 cm3 • 165 KM • ABARTH 695C XSR YAMAHA ca...</td>\n",
       "      <td>2018</td>\n",
       "    </tr>\n",
       "    <tr>\n",
       "      <th>2</th>\n",
       "      <td>Benzyna</td>\n",
       "      <td>Manualna</td>\n",
       "      <td>59 000 km</td>\n",
       "      <td>Abarth</td>\n",
       "      <td>Abarth 595</td>\n",
       "      <td>Warszawa (Mazowieckie)</td>\n",
       "      <td>71 000</td>\n",
       "      <td>Prywatny sprzedawca</td>\n",
       "      <td>1 368 cm3 • 165 KM • Abarth 595 - 165 KM | 59 ...</td>\n",
       "      <td>2018</td>\n",
       "    </tr>\n",
       "    <tr>\n",
       "      <th>3</th>\n",
       "      <td>Benzyna</td>\n",
       "      <td>Manualna</td>\n",
       "      <td>80 089 km</td>\n",
       "      <td>Abarth</td>\n",
       "      <td>Abarth 595</td>\n",
       "      <td>Jaworze (Śląskie)</td>\n",
       "      <td>59 500</td>\n",
       "      <td>Prywatny sprzedawca</td>\n",
       "      <td>1 368 cm3 • 164 KM • fiat 500 Abarth C w wersj...</td>\n",
       "      <td>2016</td>\n",
       "    </tr>\n",
       "    <tr>\n",
       "      <th>4</th>\n",
       "      <td>Benzyna</td>\n",
       "      <td>Manualna</td>\n",
       "      <td>33 000 km</td>\n",
       "      <td>Abarth</td>\n",
       "      <td>Abarth 595</td>\n",
       "      <td>Wojcieszów (Dolnośląskie)</td>\n",
       "      <td>70 000</td>\n",
       "      <td>NaN</td>\n",
       "      <td>1 368 cm3 • 145 KM • Bardzo ładny ABARTH 595 w...</td>\n",
       "      <td>2021</td>\n",
       "    </tr>\n",
       "  </tbody>\n",
       "</table>\n",
       "</div>"
      ]
     },
     "execution_count": 21,
     "metadata": {},
     "output_type": "execute_result"
    }
   ],
   "execution_count": 21
  },
  {
   "metadata": {
    "ExecuteTime": {
     "end_time": "2025-01-27T20:22:53.836136Z",
     "start_time": "2025-01-27T20:22:53.810770Z"
    }
   },
   "cell_type": "code",
   "source": "df.info()",
   "id": "1a55da129a7ded5b",
   "outputs": [
    {
     "name": "stdout",
     "output_type": "stream",
     "text": [
      "<class 'pandas.core.frame.DataFrame'>\n",
      "RangeIndex: 3269 entries, 0 to 3268\n",
      "Data columns (total 10 columns):\n",
      " #   Column       Non-Null Count  Dtype \n",
      "---  ------       --------------  ----- \n",
      " 0   fuel_type    3269 non-null   object\n",
      " 1   gearbox      3269 non-null   object\n",
      " 2   mileage      3269 non-null   object\n",
      " 3   model        3269 non-null   object\n",
      " 4   name         3269 non-null   object\n",
      " 5   place        3269 non-null   object\n",
      " 6   price        3269 non-null   object\n",
      " 7   seller_type  2281 non-null   object\n",
      " 8   users_data   3269 non-null   object\n",
      " 9   year         3269 non-null   object\n",
      "dtypes: object(10)\n",
      "memory usage: 255.5+ KB\n"
     ]
    }
   ],
   "execution_count": 22
  },
  {
   "metadata": {
    "ExecuteTime": {
     "end_time": "2025-01-27T20:22:53.962777Z",
     "start_time": "2025-01-27T20:22:53.926218Z"
    }
   },
   "cell_type": "code",
   "source": "df.describe()",
   "id": "5af06d1a8f8e7798",
   "outputs": [
    {
     "data": {
      "text/plain": [
       "       fuel_type       gearbox mileage   model               name  \\\n",
       "count       3269          3269    3269    3269               3269   \n",
       "unique         7             3    1196     133               1396   \n",
       "top      Benzyna  Automatyczna    1 km  Abarth  Chrysler Pacifica   \n",
       "freq        1927          2028     153      64                 44   \n",
       "\n",
       "                         place   price          seller_type  \\\n",
       "count                     3269    3269                 2281   \n",
       "unique                     698    1058                    3   \n",
       "top     Warszawa (Mazowieckie)  16 900  Prywatny sprzedawca   \n",
       "freq                       332      31                 2271   \n",
       "\n",
       "                                               users_data  year  \n",
       "count                                                3269  3269  \n",
       "unique                                               2273    72  \n",
       "top     2 143 cm3 • 204 KM • Silnik 651 niski przebieg...  2024  \n",
       "freq                                                   19   444  "
      ],
      "text/html": [
       "<div>\n",
       "<style scoped>\n",
       "    .dataframe tbody tr th:only-of-type {\n",
       "        vertical-align: middle;\n",
       "    }\n",
       "\n",
       "    .dataframe tbody tr th {\n",
       "        vertical-align: top;\n",
       "    }\n",
       "\n",
       "    .dataframe thead th {\n",
       "        text-align: right;\n",
       "    }\n",
       "</style>\n",
       "<table border=\"1\" class=\"dataframe\">\n",
       "  <thead>\n",
       "    <tr style=\"text-align: right;\">\n",
       "      <th></th>\n",
       "      <th>fuel_type</th>\n",
       "      <th>gearbox</th>\n",
       "      <th>mileage</th>\n",
       "      <th>model</th>\n",
       "      <th>name</th>\n",
       "      <th>place</th>\n",
       "      <th>price</th>\n",
       "      <th>seller_type</th>\n",
       "      <th>users_data</th>\n",
       "      <th>year</th>\n",
       "    </tr>\n",
       "  </thead>\n",
       "  <tbody>\n",
       "    <tr>\n",
       "      <th>count</th>\n",
       "      <td>3269</td>\n",
       "      <td>3269</td>\n",
       "      <td>3269</td>\n",
       "      <td>3269</td>\n",
       "      <td>3269</td>\n",
       "      <td>3269</td>\n",
       "      <td>3269</td>\n",
       "      <td>2281</td>\n",
       "      <td>3269</td>\n",
       "      <td>3269</td>\n",
       "    </tr>\n",
       "    <tr>\n",
       "      <th>unique</th>\n",
       "      <td>7</td>\n",
       "      <td>3</td>\n",
       "      <td>1196</td>\n",
       "      <td>133</td>\n",
       "      <td>1396</td>\n",
       "      <td>698</td>\n",
       "      <td>1058</td>\n",
       "      <td>3</td>\n",
       "      <td>2273</td>\n",
       "      <td>72</td>\n",
       "    </tr>\n",
       "    <tr>\n",
       "      <th>top</th>\n",
       "      <td>Benzyna</td>\n",
       "      <td>Automatyczna</td>\n",
       "      <td>1 km</td>\n",
       "      <td>Abarth</td>\n",
       "      <td>Chrysler Pacifica</td>\n",
       "      <td>Warszawa (Mazowieckie)</td>\n",
       "      <td>16 900</td>\n",
       "      <td>Prywatny sprzedawca</td>\n",
       "      <td>2 143 cm3 • 204 KM • Silnik 651 niski przebieg...</td>\n",
       "      <td>2024</td>\n",
       "    </tr>\n",
       "    <tr>\n",
       "      <th>freq</th>\n",
       "      <td>1927</td>\n",
       "      <td>2028</td>\n",
       "      <td>153</td>\n",
       "      <td>64</td>\n",
       "      <td>44</td>\n",
       "      <td>332</td>\n",
       "      <td>31</td>\n",
       "      <td>2271</td>\n",
       "      <td>19</td>\n",
       "      <td>444</td>\n",
       "    </tr>\n",
       "  </tbody>\n",
       "</table>\n",
       "</div>"
      ]
     },
     "execution_count": 23,
     "metadata": {},
     "output_type": "execute_result"
    }
   ],
   "execution_count": 23
  },
  {
   "metadata": {
    "ExecuteTime": {
     "end_time": "2025-01-27T20:22:54.105341Z",
     "start_time": "2025-01-27T20:22:54.093339Z"
    }
   },
   "cell_type": "code",
   "source": "df[\"seller_type\"] = df[\"seller_type\"].fillna('Anonimowy sprzedawca')",
   "id": "8da143154c5775a0",
   "outputs": [],
   "execution_count": 24
  },
  {
   "metadata": {
    "ExecuteTime": {
     "end_time": "2025-01-27T20:22:54.242369Z",
     "start_time": "2025-01-27T20:22:54.217371Z"
    }
   },
   "cell_type": "code",
   "source": [
    "split_columns = df[\"users_data\"].str.split(' • ', expand=True)\n",
    "\n",
    "df[['engine_capacity', 'horsepower', 'additional_specification']] = split_columns.iloc[:, :3].reindex(columns=range(3))\n",
    "df.drop(columns=['users_data'], inplace=True)"
   ],
   "id": "4551d75606fe3c52",
   "outputs": [],
   "execution_count": 25
  },
  {
   "metadata": {
    "ExecuteTime": {
     "end_time": "2025-01-27T20:22:54.353006Z",
     "start_time": "2025-01-27T20:22:54.339005Z"
    }
   },
   "cell_type": "code",
   "source": "df.head()",
   "id": "cc7be50326f4f2a6",
   "outputs": [
    {
     "data": {
      "text/plain": [
       "  fuel_type   gearbox    mileage   model        name  \\\n",
       "0   Benzyna  Manualna  62 000 km  Abarth  Abarth 595   \n",
       "1   Benzyna  Manualna  56 800 km  Abarth  Abarth 695   \n",
       "2   Benzyna  Manualna  59 000 km  Abarth  Abarth 595   \n",
       "3   Benzyna  Manualna  80 089 km  Abarth  Abarth 595   \n",
       "4   Benzyna  Manualna  33 000 km  Abarth  Abarth 595   \n",
       "\n",
       "                            place   price           seller_type  year  \\\n",
       "0  Bydgoszcz (Kujawsko-pomorskie)  63 000   Prywatny sprzedawca  2019   \n",
       "1         Bielsko-Biała (Śląskie)  99 000   Prywatny sprzedawca  2018   \n",
       "2          Warszawa (Mazowieckie)  71 000   Prywatny sprzedawca  2018   \n",
       "3               Jaworze (Śląskie)  59 500   Prywatny sprzedawca  2016   \n",
       "4       Wojcieszów (Dolnośląskie)  70 000  Anonimowy sprzedawca  2021   \n",
       "\n",
       "  engine_capacity horsepower  \\\n",
       "0       1 368 cm3     145 KM   \n",
       "1       1 368 cm3     165 KM   \n",
       "2       1 368 cm3     165 KM   \n",
       "3       1 368 cm3     164 KM   \n",
       "4       1 368 cm3     145 KM   \n",
       "\n",
       "                            additional_specification  \n",
       "0  Abarth 595 70th Aniversario 2019/2020 - pierws...  \n",
       "1  ABARTH 695C XSR YAMAHA cabriolet Akrapovic CES...  \n",
       "2  Abarth 595 - 165 KM | 59 000 km | Oryginalny w...  \n",
       "3  fiat 500 Abarth C w wersji 595 Turismo (cabrio...  \n",
       "4  Bardzo ładny ABARTH 595 w wyjątkowej stylizacj...  "
      ],
      "text/html": [
       "<div>\n",
       "<style scoped>\n",
       "    .dataframe tbody tr th:only-of-type {\n",
       "        vertical-align: middle;\n",
       "    }\n",
       "\n",
       "    .dataframe tbody tr th {\n",
       "        vertical-align: top;\n",
       "    }\n",
       "\n",
       "    .dataframe thead th {\n",
       "        text-align: right;\n",
       "    }\n",
       "</style>\n",
       "<table border=\"1\" class=\"dataframe\">\n",
       "  <thead>\n",
       "    <tr style=\"text-align: right;\">\n",
       "      <th></th>\n",
       "      <th>fuel_type</th>\n",
       "      <th>gearbox</th>\n",
       "      <th>mileage</th>\n",
       "      <th>model</th>\n",
       "      <th>name</th>\n",
       "      <th>place</th>\n",
       "      <th>price</th>\n",
       "      <th>seller_type</th>\n",
       "      <th>year</th>\n",
       "      <th>engine_capacity</th>\n",
       "      <th>horsepower</th>\n",
       "      <th>additional_specification</th>\n",
       "    </tr>\n",
       "  </thead>\n",
       "  <tbody>\n",
       "    <tr>\n",
       "      <th>0</th>\n",
       "      <td>Benzyna</td>\n",
       "      <td>Manualna</td>\n",
       "      <td>62 000 km</td>\n",
       "      <td>Abarth</td>\n",
       "      <td>Abarth 595</td>\n",
       "      <td>Bydgoszcz (Kujawsko-pomorskie)</td>\n",
       "      <td>63 000</td>\n",
       "      <td>Prywatny sprzedawca</td>\n",
       "      <td>2019</td>\n",
       "      <td>1 368 cm3</td>\n",
       "      <td>145 KM</td>\n",
       "      <td>Abarth 595 70th Aniversario 2019/2020 - pierws...</td>\n",
       "    </tr>\n",
       "    <tr>\n",
       "      <th>1</th>\n",
       "      <td>Benzyna</td>\n",
       "      <td>Manualna</td>\n",
       "      <td>56 800 km</td>\n",
       "      <td>Abarth</td>\n",
       "      <td>Abarth 695</td>\n",
       "      <td>Bielsko-Biała (Śląskie)</td>\n",
       "      <td>99 000</td>\n",
       "      <td>Prywatny sprzedawca</td>\n",
       "      <td>2018</td>\n",
       "      <td>1 368 cm3</td>\n",
       "      <td>165 KM</td>\n",
       "      <td>ABARTH 695C XSR YAMAHA cabriolet Akrapovic CES...</td>\n",
       "    </tr>\n",
       "    <tr>\n",
       "      <th>2</th>\n",
       "      <td>Benzyna</td>\n",
       "      <td>Manualna</td>\n",
       "      <td>59 000 km</td>\n",
       "      <td>Abarth</td>\n",
       "      <td>Abarth 595</td>\n",
       "      <td>Warszawa (Mazowieckie)</td>\n",
       "      <td>71 000</td>\n",
       "      <td>Prywatny sprzedawca</td>\n",
       "      <td>2018</td>\n",
       "      <td>1 368 cm3</td>\n",
       "      <td>165 KM</td>\n",
       "      <td>Abarth 595 - 165 KM | 59 000 km | Oryginalny w...</td>\n",
       "    </tr>\n",
       "    <tr>\n",
       "      <th>3</th>\n",
       "      <td>Benzyna</td>\n",
       "      <td>Manualna</td>\n",
       "      <td>80 089 km</td>\n",
       "      <td>Abarth</td>\n",
       "      <td>Abarth 595</td>\n",
       "      <td>Jaworze (Śląskie)</td>\n",
       "      <td>59 500</td>\n",
       "      <td>Prywatny sprzedawca</td>\n",
       "      <td>2016</td>\n",
       "      <td>1 368 cm3</td>\n",
       "      <td>164 KM</td>\n",
       "      <td>fiat 500 Abarth C w wersji 595 Turismo (cabrio...</td>\n",
       "    </tr>\n",
       "    <tr>\n",
       "      <th>4</th>\n",
       "      <td>Benzyna</td>\n",
       "      <td>Manualna</td>\n",
       "      <td>33 000 km</td>\n",
       "      <td>Abarth</td>\n",
       "      <td>Abarth 595</td>\n",
       "      <td>Wojcieszów (Dolnośląskie)</td>\n",
       "      <td>70 000</td>\n",
       "      <td>Anonimowy sprzedawca</td>\n",
       "      <td>2021</td>\n",
       "      <td>1 368 cm3</td>\n",
       "      <td>145 KM</td>\n",
       "      <td>Bardzo ładny ABARTH 595 w wyjątkowej stylizacj...</td>\n",
       "    </tr>\n",
       "  </tbody>\n",
       "</table>\n",
       "</div>"
      ]
     },
     "execution_count": 26,
     "metadata": {},
     "output_type": "execute_result"
    }
   ],
   "execution_count": 26
  },
  {
   "metadata": {
    "ExecuteTime": {
     "end_time": "2025-01-27T20:22:54.524695Z",
     "start_time": "2025-01-27T20:22:54.511942Z"
    }
   },
   "cell_type": "code",
   "source": "df['horsepower'].value_counts()",
   "id": "7b0d1a85d9139880",
   "outputs": [
    {
     "data": {
      "text/plain": [
       "horsepower\n",
       "140 KM                                                             131\n",
       "150 KM                                                             127\n",
       "177 KM                                                              97\n",
       "163 KM                                                              91\n",
       "110 KM                                                              75\n",
       "                                                                  ... \n",
       "Mini Samochód elektryczny bez prawa jazdy SARINI Tito Y LIMITED      1\n",
       "Samochód elektryczny OD 14 ROKU ŻYCIA RATY, DOWÓZ promocja           1\n",
       "i X8 Samochód elektryczny OD 14 ROKU ŻYCIA RATY, DOWÓZ promocja      1\n",
       "Niski przebieg, Samochód DEMO, od dealera                            1\n",
       "8 lat gwarancji na baterię                                           1\n",
       "Name: count, Length: 475, dtype: int64"
      ]
     },
     "execution_count": 27,
     "metadata": {},
     "output_type": "execute_result"
    }
   ],
   "execution_count": 27
  },
  {
   "metadata": {
    "ExecuteTime": {
     "end_time": "2025-01-27T20:22:54.666654Z",
     "start_time": "2025-01-27T20:22:54.637654Z"
    }
   },
   "cell_type": "code",
   "source": [
    "df = df[df['horsepower'].str.len() <= 6]\n",
    "df.info()"
   ],
   "id": "bafee12a441c8051",
   "outputs": [
    {
     "name": "stdout",
     "output_type": "stream",
     "text": [
      "<class 'pandas.core.frame.DataFrame'>\n",
      "Index: 3071 entries, 0 to 3268\n",
      "Data columns (total 12 columns):\n",
      " #   Column                    Non-Null Count  Dtype \n",
      "---  ------                    --------------  ----- \n",
      " 0   fuel_type                 3071 non-null   object\n",
      " 1   gearbox                   3071 non-null   object\n",
      " 2   mileage                   3071 non-null   object\n",
      " 3   model                     3071 non-null   object\n",
      " 4   name                      3071 non-null   object\n",
      " 5   place                     3071 non-null   object\n",
      " 6   price                     3071 non-null   object\n",
      " 7   seller_type               3071 non-null   object\n",
      " 8   year                      3071 non-null   object\n",
      " 9   engine_capacity           3071 non-null   object\n",
      " 10  horsepower                3071 non-null   object\n",
      " 11  additional_specification  2948 non-null   object\n",
      "dtypes: object(12)\n",
      "memory usage: 311.9+ KB\n"
     ]
    }
   ],
   "execution_count": 28
  },
  {
   "metadata": {
    "ExecuteTime": {
     "end_time": "2025-01-27T20:22:54.900582Z",
     "start_time": "2025-01-27T20:22:54.867618Z"
    }
   },
   "cell_type": "code",
   "source": [
    "df = df[df['engine_capacity'].str.contains('cm3')]\n",
    "df.info()"
   ],
   "id": "9eaed21f8648bc00",
   "outputs": [
    {
     "name": "stdout",
     "output_type": "stream",
     "text": [
      "<class 'pandas.core.frame.DataFrame'>\n",
      "Index: 3070 entries, 0 to 3268\n",
      "Data columns (total 12 columns):\n",
      " #   Column                    Non-Null Count  Dtype \n",
      "---  ------                    --------------  ----- \n",
      " 0   fuel_type                 3070 non-null   object\n",
      " 1   gearbox                   3070 non-null   object\n",
      " 2   mileage                   3070 non-null   object\n",
      " 3   model                     3070 non-null   object\n",
      " 4   name                      3070 non-null   object\n",
      " 5   place                     3070 non-null   object\n",
      " 6   price                     3070 non-null   object\n",
      " 7   seller_type               3070 non-null   object\n",
      " 8   year                      3070 non-null   object\n",
      " 9   engine_capacity           3070 non-null   object\n",
      " 10  horsepower                3070 non-null   object\n",
      " 11  additional_specification  2948 non-null   object\n",
      "dtypes: object(12)\n",
      "memory usage: 311.8+ KB\n"
     ]
    }
   ],
   "execution_count": 29
  },
  {
   "metadata": {
    "ExecuteTime": {
     "end_time": "2025-01-27T20:22:55.088562Z",
     "start_time": "2025-01-27T20:22:55.073557Z"
    }
   },
   "cell_type": "code",
   "source": "df['fuel_type'].unique()",
   "id": "254066135792d56",
   "outputs": [
    {
     "data": {
      "text/plain": [
       "array(['Benzyna', 'Diesel', 'Hybryda', 'Benzyna+LPG', 'Hybryda Plug-in',\n",
       "       'Elektryczny'], dtype=object)"
      ]
     },
     "execution_count": 30,
     "metadata": {},
     "output_type": "execute_result"
    }
   ],
   "execution_count": 30
  },
  {
   "metadata": {
    "ExecuteTime": {
     "end_time": "2025-01-27T20:22:55.228470Z",
     "start_time": "2025-01-27T20:22:55.210505Z"
    }
   },
   "cell_type": "code",
   "source": "df['engine_capacity'].value_counts()",
   "id": "2cc73c91dec22e48",
   "outputs": [
    {
     "data": {
      "text/plain": [
       "engine_capacity\n",
       "1 598 cm3    204\n",
       "1 998 cm3    130\n",
       "1 984 cm3    108\n",
       "1 968 cm3     94\n",
       "1 995 cm3     91\n",
       "            ... \n",
       "6 900 cm3      1\n",
       "2 922 cm3      1\n",
       "2 401 cm3      1\n",
       "900 cm3        1\n",
       "1 234 cm3      1\n",
       "Name: count, Length: 357, dtype: int64"
      ]
     },
     "execution_count": 31,
     "metadata": {},
     "output_type": "execute_result"
    }
   ],
   "execution_count": 31
  },
  {
   "metadata": {
    "ExecuteTime": {
     "end_time": "2025-01-27T20:22:55.353413Z",
     "start_time": "2025-01-27T20:22:55.329839Z"
    }
   },
   "cell_type": "code",
   "source": "df[\"additional_specification\"] = df[\"additional_specification\"].fillna('Brak dodatkowych informacji')",
   "id": "5be205df50f6900a",
   "outputs": [],
   "execution_count": 32
  },
  {
   "metadata": {
    "ExecuteTime": {
     "end_time": "2025-01-27T20:22:55.421631Z",
     "start_time": "2025-01-27T20:22:55.405047Z"
    }
   },
   "cell_type": "code",
   "source": "df['gearbox'].unique()",
   "id": "8f0d7fb17cfb3b0e",
   "outputs": [
    {
     "data": {
      "text/plain": [
       "array(['Manualna', 'Automatyczna'], dtype=object)"
      ]
     },
     "execution_count": 33,
     "metadata": {},
     "output_type": "execute_result"
    }
   ],
   "execution_count": 33
  },
  {
   "metadata": {
    "ExecuteTime": {
     "end_time": "2025-01-27T20:22:55.468059Z",
     "start_time": "2025-01-27T20:22:55.455400Z"
    }
   },
   "cell_type": "code",
   "source": "df['gearbox'].value_counts()",
   "id": "80bfc5a87a3a07fe",
   "outputs": [
    {
     "data": {
      "text/plain": [
       "gearbox\n",
       "Automatyczna    1830\n",
       "Manualna        1240\n",
       "Name: count, dtype: int64"
      ]
     },
     "execution_count": 34,
     "metadata": {},
     "output_type": "execute_result"
    }
   ],
   "execution_count": 34
  },
  {
   "metadata": {
    "ExecuteTime": {
     "end_time": "2025-01-27T20:22:55.577962Z",
     "start_time": "2025-01-27T20:22:55.564950Z"
    }
   },
   "cell_type": "code",
   "source": [
    "df = df[df['gearbox'] != 'gearbox']\n",
    "df['gearbox'].value_counts()"
   ],
   "id": "27582ef03011c8b0",
   "outputs": [
    {
     "data": {
      "text/plain": [
       "gearbox\n",
       "Automatyczna    1830\n",
       "Manualna        1240\n",
       "Name: count, dtype: int64"
      ]
     },
     "execution_count": 35,
     "metadata": {},
     "output_type": "execute_result"
    }
   ],
   "execution_count": 35
  },
  {
   "metadata": {
    "ExecuteTime": {
     "end_time": "2025-01-27T20:22:55.718386Z",
     "start_time": "2025-01-27T20:22:55.706386Z"
    }
   },
   "cell_type": "code",
   "source": "df['seller_type'].value_counts()",
   "id": "1e5a01d13c3bc24e",
   "outputs": [
    {
     "data": {
      "text/plain": [
       "seller_type\n",
       "Prywatny sprzedawca     2198\n",
       "Anonimowy sprzedawca     863\n",
       "Firma                      9\n",
       "Name: count, dtype: int64"
      ]
     },
     "execution_count": 36,
     "metadata": {},
     "output_type": "execute_result"
    }
   ],
   "execution_count": 36
  },
  {
   "metadata": {
    "ExecuteTime": {
     "end_time": "2025-01-27T20:22:55.937890Z",
     "start_time": "2025-01-27T20:22:55.878498Z"
    }
   },
   "cell_type": "code",
   "source": [
    "df['mileage'] = df['mileage'].str.replace(' km', '', regex=False).str.replace(' ', '').astype(int)\n",
    "df['horsepower'] = df['horsepower'].str.replace(' KM', '', regex=False).str.replace(' ', '').astype(int)\n",
    "df['engine_capacity'] = df['engine_capacity'].str.replace(' cm3', '', regex=False).str.replace(' ', '').astype(int)\n",
    "df['is_gearbox_automatic'] = df['gearbox'].map({\n",
    "    'Manualna': 0,\n",
    "    'Automatyczna': 1\n",
    "})\n",
    "\n",
    "df['price'] = df['price'].str.replace(' ', '').astype(int)\n",
    "df['region'] = df['place'].str.extract(r'\\((.*?)\\)')\n",
    "\n",
    "\n",
    "df.rename(columns={\n",
    "    'mileage': 'mileage [km]',\n",
    "    'horsepower': 'horsepower [km]',\n",
    "    'price': 'price [pln]',\n",
    "    'engine_capacity': 'engine_capacity [cm3]',\n",
    "    }, inplace=True)\n",
    "df.head()"
   ],
   "id": "4f0434ed5a7b62c9",
   "outputs": [
    {
     "data": {
      "text/plain": [
       "  fuel_type   gearbox  mileage [km]   model        name  \\\n",
       "0   Benzyna  Manualna         62000  Abarth  Abarth 595   \n",
       "1   Benzyna  Manualna         56800  Abarth  Abarth 695   \n",
       "2   Benzyna  Manualna         59000  Abarth  Abarth 595   \n",
       "3   Benzyna  Manualna         80089  Abarth  Abarth 595   \n",
       "4   Benzyna  Manualna         33000  Abarth  Abarth 595   \n",
       "\n",
       "                            place  price [pln]           seller_type  year  \\\n",
       "0  Bydgoszcz (Kujawsko-pomorskie)        63000   Prywatny sprzedawca  2019   \n",
       "1         Bielsko-Biała (Śląskie)        99000   Prywatny sprzedawca  2018   \n",
       "2          Warszawa (Mazowieckie)        71000   Prywatny sprzedawca  2018   \n",
       "3               Jaworze (Śląskie)        59500   Prywatny sprzedawca  2016   \n",
       "4       Wojcieszów (Dolnośląskie)        70000  Anonimowy sprzedawca  2021   \n",
       "\n",
       "   engine_capacity [cm3]  horsepower [km]  \\\n",
       "0                   1368              145   \n",
       "1                   1368              165   \n",
       "2                   1368              165   \n",
       "3                   1368              164   \n",
       "4                   1368              145   \n",
       "\n",
       "                            additional_specification  is_gearbox_automatic  \\\n",
       "0  Abarth 595 70th Aniversario 2019/2020 - pierws...                     0   \n",
       "1  ABARTH 695C XSR YAMAHA cabriolet Akrapovic CES...                     0   \n",
       "2  Abarth 595 - 165 KM | 59 000 km | Oryginalny w...                     0   \n",
       "3  fiat 500 Abarth C w wersji 595 Turismo (cabrio...                     0   \n",
       "4  Bardzo ładny ABARTH 595 w wyjątkowej stylizacj...                     0   \n",
       "\n",
       "               region  \n",
       "0  Kujawsko-pomorskie  \n",
       "1             Śląskie  \n",
       "2         Mazowieckie  \n",
       "3             Śląskie  \n",
       "4        Dolnośląskie  "
      ],
      "text/html": [
       "<div>\n",
       "<style scoped>\n",
       "    .dataframe tbody tr th:only-of-type {\n",
       "        vertical-align: middle;\n",
       "    }\n",
       "\n",
       "    .dataframe tbody tr th {\n",
       "        vertical-align: top;\n",
       "    }\n",
       "\n",
       "    .dataframe thead th {\n",
       "        text-align: right;\n",
       "    }\n",
       "</style>\n",
       "<table border=\"1\" class=\"dataframe\">\n",
       "  <thead>\n",
       "    <tr style=\"text-align: right;\">\n",
       "      <th></th>\n",
       "      <th>fuel_type</th>\n",
       "      <th>gearbox</th>\n",
       "      <th>mileage [km]</th>\n",
       "      <th>model</th>\n",
       "      <th>name</th>\n",
       "      <th>place</th>\n",
       "      <th>price [pln]</th>\n",
       "      <th>seller_type</th>\n",
       "      <th>year</th>\n",
       "      <th>engine_capacity [cm3]</th>\n",
       "      <th>horsepower [km]</th>\n",
       "      <th>additional_specification</th>\n",
       "      <th>is_gearbox_automatic</th>\n",
       "      <th>region</th>\n",
       "    </tr>\n",
       "  </thead>\n",
       "  <tbody>\n",
       "    <tr>\n",
       "      <th>0</th>\n",
       "      <td>Benzyna</td>\n",
       "      <td>Manualna</td>\n",
       "      <td>62000</td>\n",
       "      <td>Abarth</td>\n",
       "      <td>Abarth 595</td>\n",
       "      <td>Bydgoszcz (Kujawsko-pomorskie)</td>\n",
       "      <td>63000</td>\n",
       "      <td>Prywatny sprzedawca</td>\n",
       "      <td>2019</td>\n",
       "      <td>1368</td>\n",
       "      <td>145</td>\n",
       "      <td>Abarth 595 70th Aniversario 2019/2020 - pierws...</td>\n",
       "      <td>0</td>\n",
       "      <td>Kujawsko-pomorskie</td>\n",
       "    </tr>\n",
       "    <tr>\n",
       "      <th>1</th>\n",
       "      <td>Benzyna</td>\n",
       "      <td>Manualna</td>\n",
       "      <td>56800</td>\n",
       "      <td>Abarth</td>\n",
       "      <td>Abarth 695</td>\n",
       "      <td>Bielsko-Biała (Śląskie)</td>\n",
       "      <td>99000</td>\n",
       "      <td>Prywatny sprzedawca</td>\n",
       "      <td>2018</td>\n",
       "      <td>1368</td>\n",
       "      <td>165</td>\n",
       "      <td>ABARTH 695C XSR YAMAHA cabriolet Akrapovic CES...</td>\n",
       "      <td>0</td>\n",
       "      <td>Śląskie</td>\n",
       "    </tr>\n",
       "    <tr>\n",
       "      <th>2</th>\n",
       "      <td>Benzyna</td>\n",
       "      <td>Manualna</td>\n",
       "      <td>59000</td>\n",
       "      <td>Abarth</td>\n",
       "      <td>Abarth 595</td>\n",
       "      <td>Warszawa (Mazowieckie)</td>\n",
       "      <td>71000</td>\n",
       "      <td>Prywatny sprzedawca</td>\n",
       "      <td>2018</td>\n",
       "      <td>1368</td>\n",
       "      <td>165</td>\n",
       "      <td>Abarth 595 - 165 KM | 59 000 km | Oryginalny w...</td>\n",
       "      <td>0</td>\n",
       "      <td>Mazowieckie</td>\n",
       "    </tr>\n",
       "    <tr>\n",
       "      <th>3</th>\n",
       "      <td>Benzyna</td>\n",
       "      <td>Manualna</td>\n",
       "      <td>80089</td>\n",
       "      <td>Abarth</td>\n",
       "      <td>Abarth 595</td>\n",
       "      <td>Jaworze (Śląskie)</td>\n",
       "      <td>59500</td>\n",
       "      <td>Prywatny sprzedawca</td>\n",
       "      <td>2016</td>\n",
       "      <td>1368</td>\n",
       "      <td>164</td>\n",
       "      <td>fiat 500 Abarth C w wersji 595 Turismo (cabrio...</td>\n",
       "      <td>0</td>\n",
       "      <td>Śląskie</td>\n",
       "    </tr>\n",
       "    <tr>\n",
       "      <th>4</th>\n",
       "      <td>Benzyna</td>\n",
       "      <td>Manualna</td>\n",
       "      <td>33000</td>\n",
       "      <td>Abarth</td>\n",
       "      <td>Abarth 595</td>\n",
       "      <td>Wojcieszów (Dolnośląskie)</td>\n",
       "      <td>70000</td>\n",
       "      <td>Anonimowy sprzedawca</td>\n",
       "      <td>2021</td>\n",
       "      <td>1368</td>\n",
       "      <td>145</td>\n",
       "      <td>Bardzo ładny ABARTH 595 w wyjątkowej stylizacj...</td>\n",
       "      <td>0</td>\n",
       "      <td>Dolnośląskie</td>\n",
       "    </tr>\n",
       "  </tbody>\n",
       "</table>\n",
       "</div>"
      ]
     },
     "execution_count": 37,
     "metadata": {},
     "output_type": "execute_result"
    }
   ],
   "execution_count": 37
  },
  {
   "metadata": {
    "ExecuteTime": {
     "end_time": "2025-01-27T20:22:56.176260Z",
     "start_time": "2025-01-27T20:22:56.083840Z"
    }
   },
   "cell_type": "code",
   "source": "df.to_csv(r'cleaned/output_cleaned_full.csv', index=False)",
   "id": "4315a0164b9e728a",
   "outputs": [],
   "execution_count": 38
  },
  {
   "metadata": {
    "ExecuteTime": {
     "end_time": "2025-01-27T20:22:56.518050Z",
     "start_time": "2025-01-27T20:22:56.358194Z"
    }
   },
   "cell_type": "code",
   "source": [
    "from category_encoders import TargetEncoder\n",
    "\n",
    "df_encoded = df.copy()\n",
    "df_encoded.drop(columns=['additional_specification','gearbox','place'], inplace=True)\n",
    "target_encoder = TargetEncoder(cols=['fuel_type', 'model', 'name', 'seller_type', 'region'])\n",
    "\n",
    "df_encoded = target_encoder.fit_transform(df_encoded, df_encoded['price [pln]'])\n",
    "\n",
    "\n",
    "df_encoded.head()"
   ],
   "id": "ee3a35868183a5b5",
   "outputs": [
    {
     "data": {
      "text/plain": [
       "       fuel_type  mileage [km]          model           name  price [pln]  \\\n",
       "0  178162.801039         62000  101613.193302   85505.357299        63000   \n",
       "1  178162.801039         56800  101613.193302  133323.671059        99000   \n",
       "2  178162.801039         59000  101613.193302   85505.357299        71000   \n",
       "3  178162.801039         80089  101613.193302   85505.357299        59500   \n",
       "4  178162.801039         33000  101613.193302   85505.357299        70000   \n",
       "\n",
       "     seller_type  year  engine_capacity [cm3]  horsepower [km]  \\\n",
       "0   90852.118289  2019                   1368              145   \n",
       "1   90852.118289  2018                   1368              165   \n",
       "2   90852.118289  2018                   1368              165   \n",
       "3   90852.118289  2016                   1368              164   \n",
       "4  265742.166860  2021                   1368              145   \n",
       "\n",
       "   is_gearbox_automatic         region  \n",
       "0                     0   80689.855237  \n",
       "1                     0  128266.815789  \n",
       "2                     0  215862.601274  \n",
       "3                     0  128266.815789  \n",
       "4                     0  104437.423222  "
      ],
      "text/html": [
       "<div>\n",
       "<style scoped>\n",
       "    .dataframe tbody tr th:only-of-type {\n",
       "        vertical-align: middle;\n",
       "    }\n",
       "\n",
       "    .dataframe tbody tr th {\n",
       "        vertical-align: top;\n",
       "    }\n",
       "\n",
       "    .dataframe thead th {\n",
       "        text-align: right;\n",
       "    }\n",
       "</style>\n",
       "<table border=\"1\" class=\"dataframe\">\n",
       "  <thead>\n",
       "    <tr style=\"text-align: right;\">\n",
       "      <th></th>\n",
       "      <th>fuel_type</th>\n",
       "      <th>mileage [km]</th>\n",
       "      <th>model</th>\n",
       "      <th>name</th>\n",
       "      <th>price [pln]</th>\n",
       "      <th>seller_type</th>\n",
       "      <th>year</th>\n",
       "      <th>engine_capacity [cm3]</th>\n",
       "      <th>horsepower [km]</th>\n",
       "      <th>is_gearbox_automatic</th>\n",
       "      <th>region</th>\n",
       "    </tr>\n",
       "  </thead>\n",
       "  <tbody>\n",
       "    <tr>\n",
       "      <th>0</th>\n",
       "      <td>178162.801039</td>\n",
       "      <td>62000</td>\n",
       "      <td>101613.193302</td>\n",
       "      <td>85505.357299</td>\n",
       "      <td>63000</td>\n",
       "      <td>90852.118289</td>\n",
       "      <td>2019</td>\n",
       "      <td>1368</td>\n",
       "      <td>145</td>\n",
       "      <td>0</td>\n",
       "      <td>80689.855237</td>\n",
       "    </tr>\n",
       "    <tr>\n",
       "      <th>1</th>\n",
       "      <td>178162.801039</td>\n",
       "      <td>56800</td>\n",
       "      <td>101613.193302</td>\n",
       "      <td>133323.671059</td>\n",
       "      <td>99000</td>\n",
       "      <td>90852.118289</td>\n",
       "      <td>2018</td>\n",
       "      <td>1368</td>\n",
       "      <td>165</td>\n",
       "      <td>0</td>\n",
       "      <td>128266.815789</td>\n",
       "    </tr>\n",
       "    <tr>\n",
       "      <th>2</th>\n",
       "      <td>178162.801039</td>\n",
       "      <td>59000</td>\n",
       "      <td>101613.193302</td>\n",
       "      <td>85505.357299</td>\n",
       "      <td>71000</td>\n",
       "      <td>90852.118289</td>\n",
       "      <td>2018</td>\n",
       "      <td>1368</td>\n",
       "      <td>165</td>\n",
       "      <td>0</td>\n",
       "      <td>215862.601274</td>\n",
       "    </tr>\n",
       "    <tr>\n",
       "      <th>3</th>\n",
       "      <td>178162.801039</td>\n",
       "      <td>80089</td>\n",
       "      <td>101613.193302</td>\n",
       "      <td>85505.357299</td>\n",
       "      <td>59500</td>\n",
       "      <td>90852.118289</td>\n",
       "      <td>2016</td>\n",
       "      <td>1368</td>\n",
       "      <td>164</td>\n",
       "      <td>0</td>\n",
       "      <td>128266.815789</td>\n",
       "    </tr>\n",
       "    <tr>\n",
       "      <th>4</th>\n",
       "      <td>178162.801039</td>\n",
       "      <td>33000</td>\n",
       "      <td>101613.193302</td>\n",
       "      <td>85505.357299</td>\n",
       "      <td>70000</td>\n",
       "      <td>265742.166860</td>\n",
       "      <td>2021</td>\n",
       "      <td>1368</td>\n",
       "      <td>145</td>\n",
       "      <td>0</td>\n",
       "      <td>104437.423222</td>\n",
       "    </tr>\n",
       "  </tbody>\n",
       "</table>\n",
       "</div>"
      ]
     },
     "execution_count": 39,
     "metadata": {},
     "output_type": "execute_result"
    }
   ],
   "execution_count": 39
  },
  {
   "metadata": {
    "ExecuteTime": {
     "end_time": "2025-01-27T20:22:56.674563Z",
     "start_time": "2025-01-27T20:22:56.599577Z"
    }
   },
   "cell_type": "code",
   "source": "df_encoded.to_csv(r'cleaned/output_encoded.csv', index=False)",
   "id": "8a846c209b1b3e8a",
   "outputs": [],
   "execution_count": 40
  },
  {
   "metadata": {},
   "cell_type": "markdown",
   "source": [
    "\n",
    "\n",
    "\n"
   ],
   "id": "5be212f7235d3e41"
  }
 ],
 "metadata": {
  "kernelspec": {
   "display_name": "Python 3",
   "language": "python",
   "name": "python3"
  },
  "language_info": {
   "codemirror_mode": {
    "name": "ipython",
    "version": 2
   },
   "file_extension": ".py",
   "mimetype": "text/x-python",
   "name": "python",
   "nbconvert_exporter": "python",
   "pygments_lexer": "ipython2",
   "version": "2.7.6"
  }
 },
 "nbformat": 4,
 "nbformat_minor": 5
}
