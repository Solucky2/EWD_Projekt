{
 "cells": [
  {
   "cell_type": "code",
   "id": "initial_id",
   "metadata": {
    "collapsed": true,
    "ExecuteTime": {
     "end_time": "2025-01-29T19:59:15.386955Z",
     "start_time": "2025-01-29T19:59:10.988661Z"
    }
   },
   "source": [
    "from sklearn.svm import SVR\n",
    "from sklearn.preprocessing import StandardScaler\n",
    "from sklearn.metrics import mean_squared_error\n",
    "from sklearn.model_selection import train_test_split\n",
    "from sklearn.model_selection import GridSearchCV\n",
    "import pandas as pd\n",
    "import numpy as np"
   ],
   "outputs": [],
   "execution_count": 2
  },
  {
   "metadata": {
    "ExecuteTime": {
     "end_time": "2025-01-29T19:59:15.611029Z",
     "start_time": "2025-01-29T19:59:15.400522Z"
    }
   },
   "cell_type": "code",
   "source": [
    "df = pd.read_csv(r'../cleaned/output_encoded.csv')\n",
    "df.head()"
   ],
   "id": "773fe532c6670478",
   "outputs": [
    {
     "name": "stderr",
     "output_type": "stream",
     "text": [
      "\n",
      "KeyboardInterrupt\n",
      "\n"
     ]
    }
   ],
   "execution_count": 3
  },
  {
   "metadata": {
    "ExecuteTime": {
     "end_time": "2025-01-29T19:59:15.630569300Z",
     "start_time": "2025-01-28T16:40:59.317762Z"
    }
   },
   "cell_type": "code",
   "source": [
    "scaler_x = StandardScaler()\n",
    "scaler_y = StandardScaler()\n",
    "\n",
    "y = df['price [pln]'].values\n",
    "X = df.drop(columns=['price [pln]'])\n",
    "\n",
    "X_train, X_test, y_train, y_test = train_test_split(X, y, test_size=0.2, random_state=42)\n",
    "\n",
    "X_train_scaled = scaler_x.fit_transform(X_train)\n",
    "X_test_scaled = scaler_x.transform(X_test)\n",
    "\n",
    "y_train_scaled = scaler_y.fit_transform(y_train.reshape(-1, 1)).ravel()\n",
    "y_test_scaled = scaler_y.transform(y_test.reshape(-1, 1)).ravel()"
   ],
   "id": "6fc2262de22c9b2c",
   "outputs": [],
   "execution_count": 4
  },
  {
   "metadata": {
    "ExecuteTime": {
     "end_time": "2025-01-29T19:59:15.641111500Z",
     "start_time": "2025-01-28T20:27:01.846525Z"
    }
   },
   "cell_type": "code",
   "source": [
    "param_grid = {\n",
    "    \"C\": np.arange(1, 100.0, 1.0),\n",
    "    \"epsilon\": np.arange(0.0, 1.0, 0.1),\n",
    "    \"gamma\": np.arange(0.0, 1.0, 0.1),\n",
    "}\n",
    "\n",
    "svr = SVR(kernel='rbf')\n",
    "grid_search = GridSearchCV(svr, param_grid, cv=5, scoring='neg_mean_squared_error')\n",
    "grid_search.fit(X_train_scaled, y_train_scaled)\n",
    "\n",
    "print(grid_search.best_estimator_)\n",
    "best_svr = grid_search.best_estimator_"
   ],
   "id": "df7dc6e8b9590680",
   "outputs": [
    {
     "name": "stdout",
     "output_type": "stream",
     "text": [
      "SVR(C=np.float64(11.0), epsilon=np.float64(0.1), gamma=np.float64(0.1))\n"
     ]
    }
   ],
   "execution_count": 12
  },
  {
   "metadata": {
    "ExecuteTime": {
     "end_time": "2025-01-29T19:59:15.642123200Z",
     "start_time": "2025-01-28T21:03:56.724972Z"
    }
   },
   "cell_type": "code",
   "source": [
    "svr = SVR(kernel='rbf', C=11, epsilon=0.1, gamma=0.1)\n",
    "\n",
    "svr.fit(X_train_scaled, y_train_scaled)\n",
    "y_pred_scaled = svr.predict(X_test_scaled)\n",
    "y_pred = scaler_y.inverse_transform(y_pred_scaled.reshape(-1, 1)).ravel()\n",
    "\n",
    "rmse = np.sqrt(mean_squared_error(y_test, y_pred))\n",
    "print(f\"RMSE dla SVR: {rmse}\")"
   ],
   "id": "3bf7c32bc35e2ed3",
   "outputs": [
    {
     "name": "stdout",
     "output_type": "stream",
     "text": [
      "RMSE dla SVR: 86382.01461525857\n"
     ]
    }
   ],
   "execution_count": 13
  },
  {
   "metadata": {
    "ExecuteTime": {
     "end_time": "2025-01-29T19:59:15.643131300Z",
     "start_time": "2025-01-28T21:04:01.770521Z"
    }
   },
   "cell_type": "code",
   "source": "svr.score(X_test_scaled, y_test_scaled)",
   "id": "bb1922d64fbc794d",
   "outputs": [
    {
     "data": {
      "text/plain": [
       "0.9200707434473265"
      ]
     },
     "execution_count": 14,
     "metadata": {},
     "output_type": "execute_result"
    }
   ],
   "execution_count": 14
  }
 ],
 "metadata": {
  "kernelspec": {
   "display_name": "Python 3",
   "language": "python",
   "name": "python3"
  },
  "language_info": {
   "codemirror_mode": {
    "name": "ipython",
    "version": 2
   },
   "file_extension": ".py",
   "mimetype": "text/x-python",
   "name": "python",
   "nbconvert_exporter": "python",
   "pygments_lexer": "ipython2",
   "version": "2.7.6"
  }
 },
 "nbformat": 4,
 "nbformat_minor": 5
}
