{
 "cells": [
  {
   "cell_type": "code",
   "id": "initial_id",
   "metadata": {
    "collapsed": true,
    "ExecuteTime": {
     "end_time": "2025-01-27T20:25:19.945607Z",
     "start_time": "2025-01-27T20:25:19.928536Z"
    }
   },
   "source": [
    "import pandas as pd\n",
    "from sklearn.model_selection  import train_test_split\n",
    "from sklearn.linear_model import LinearRegression\n",
    "from mlxtend.feature_selection import SequentialFeatureSelector\n",
    "from sklearn.preprocessing import LabelEncoder\n",
    "from src.helpers.plotters import plot_corr_matrix\n",
    "import statsmodels.api as sm"
   ],
   "outputs": [],
   "execution_count": 47
  },
  {
   "metadata": {
    "ExecuteTime": {
     "end_time": "2025-01-27T20:25:19.977227Z",
     "start_time": "2025-01-27T20:25:19.956072Z"
    }
   },
   "cell_type": "code",
   "source": [
    "df = pd.read_csv(r'../cleaned/output_encoded.csv')\n",
    "df.head()"
   ],
   "id": "bef8329a3dee2695",
   "outputs": [
    {
     "data": {
      "text/plain": [
       "       fuel_type  mileage [km]          model           name  price [pln]  \\\n",
       "0  178162.801039         62000  101613.193302   85505.357299        63000   \n",
       "1  178162.801039         56800  101613.193302  133323.671059        99000   \n",
       "2  178162.801039         59000  101613.193302   85505.357299        71000   \n",
       "3  178162.801039         80089  101613.193302   85505.357299        59500   \n",
       "4  178162.801039         33000  101613.193302   85505.357299        70000   \n",
       "\n",
       "     seller_type  year  engine_capacity [cm3]  horsepower [km]  \\\n",
       "0   90852.118289  2019                   1368              145   \n",
       "1   90852.118289  2018                   1368              165   \n",
       "2   90852.118289  2018                   1368              165   \n",
       "3   90852.118289  2016                   1368              164   \n",
       "4  265742.166860  2021                   1368              145   \n",
       "\n",
       "   is_gearbox_automatic         region  \n",
       "0                     0   80689.855237  \n",
       "1                     0  128266.815789  \n",
       "2                     0  215862.601274  \n",
       "3                     0  128266.815789  \n",
       "4                     0  104437.423222  "
      ],
      "text/html": [
       "<div>\n",
       "<style scoped>\n",
       "    .dataframe tbody tr th:only-of-type {\n",
       "        vertical-align: middle;\n",
       "    }\n",
       "\n",
       "    .dataframe tbody tr th {\n",
       "        vertical-align: top;\n",
       "    }\n",
       "\n",
       "    .dataframe thead th {\n",
       "        text-align: right;\n",
       "    }\n",
       "</style>\n",
       "<table border=\"1\" class=\"dataframe\">\n",
       "  <thead>\n",
       "    <tr style=\"text-align: right;\">\n",
       "      <th></th>\n",
       "      <th>fuel_type</th>\n",
       "      <th>mileage [km]</th>\n",
       "      <th>model</th>\n",
       "      <th>name</th>\n",
       "      <th>price [pln]</th>\n",
       "      <th>seller_type</th>\n",
       "      <th>year</th>\n",
       "      <th>engine_capacity [cm3]</th>\n",
       "      <th>horsepower [km]</th>\n",
       "      <th>is_gearbox_automatic</th>\n",
       "      <th>region</th>\n",
       "    </tr>\n",
       "  </thead>\n",
       "  <tbody>\n",
       "    <tr>\n",
       "      <th>0</th>\n",
       "      <td>178162.801039</td>\n",
       "      <td>62000</td>\n",
       "      <td>101613.193302</td>\n",
       "      <td>85505.357299</td>\n",
       "      <td>63000</td>\n",
       "      <td>90852.118289</td>\n",
       "      <td>2019</td>\n",
       "      <td>1368</td>\n",
       "      <td>145</td>\n",
       "      <td>0</td>\n",
       "      <td>80689.855237</td>\n",
       "    </tr>\n",
       "    <tr>\n",
       "      <th>1</th>\n",
       "      <td>178162.801039</td>\n",
       "      <td>56800</td>\n",
       "      <td>101613.193302</td>\n",
       "      <td>133323.671059</td>\n",
       "      <td>99000</td>\n",
       "      <td>90852.118289</td>\n",
       "      <td>2018</td>\n",
       "      <td>1368</td>\n",
       "      <td>165</td>\n",
       "      <td>0</td>\n",
       "      <td>128266.815789</td>\n",
       "    </tr>\n",
       "    <tr>\n",
       "      <th>2</th>\n",
       "      <td>178162.801039</td>\n",
       "      <td>59000</td>\n",
       "      <td>101613.193302</td>\n",
       "      <td>85505.357299</td>\n",
       "      <td>71000</td>\n",
       "      <td>90852.118289</td>\n",
       "      <td>2018</td>\n",
       "      <td>1368</td>\n",
       "      <td>165</td>\n",
       "      <td>0</td>\n",
       "      <td>215862.601274</td>\n",
       "    </tr>\n",
       "    <tr>\n",
       "      <th>3</th>\n",
       "      <td>178162.801039</td>\n",
       "      <td>80089</td>\n",
       "      <td>101613.193302</td>\n",
       "      <td>85505.357299</td>\n",
       "      <td>59500</td>\n",
       "      <td>90852.118289</td>\n",
       "      <td>2016</td>\n",
       "      <td>1368</td>\n",
       "      <td>164</td>\n",
       "      <td>0</td>\n",
       "      <td>128266.815789</td>\n",
       "    </tr>\n",
       "    <tr>\n",
       "      <th>4</th>\n",
       "      <td>178162.801039</td>\n",
       "      <td>33000</td>\n",
       "      <td>101613.193302</td>\n",
       "      <td>85505.357299</td>\n",
       "      <td>70000</td>\n",
       "      <td>265742.166860</td>\n",
       "      <td>2021</td>\n",
       "      <td>1368</td>\n",
       "      <td>145</td>\n",
       "      <td>0</td>\n",
       "      <td>104437.423222</td>\n",
       "    </tr>\n",
       "  </tbody>\n",
       "</table>\n",
       "</div>"
      ]
     },
     "execution_count": 48,
     "metadata": {},
     "output_type": "execute_result"
    }
   ],
   "execution_count": 48
  },
  {
   "metadata": {
    "ExecuteTime": {
     "end_time": "2025-01-27T20:25:20.102267Z",
     "start_time": "2025-01-27T20:25:20.076855Z"
    }
   },
   "cell_type": "code",
   "source": [
    "Y = df['price [pln]']\n",
    "X = df.drop('price [pln]', axis=1)\n",
    "\n",
    "X_train, X_test, y_train, y_test = train_test_split(X, Y, test_size=0.2, random_state=42)"
   ],
   "id": "cd5039a6040e873b",
   "outputs": [],
   "execution_count": 49
  },
  {
   "metadata": {
    "ExecuteTime": {
     "end_time": "2025-01-27T20:25:28.693350Z",
     "start_time": "2025-01-27T20:25:20.182210Z"
    }
   },
   "cell_type": "code",
   "source": [
    "lr = LinearRegression()\n",
    "\n",
    "for i in range(1, df.shape[1]):\n",
    "    forward = SequentialFeatureSelector(\n",
    "    lr,\n",
    "    k_features=i,\n",
    "    forward=True,\n",
    "    verbose=1\n",
    "    )\n",
    "\n",
    "    backward = SequentialFeatureSelector(\n",
    "    lr,\n",
    "    k_features=i,\n",
    "    forward=False,\n",
    "    verbose=1\n",
    "    )\n",
    "    sf_forward = forward.fit(X_train, y_train)\n",
    "    sf_backward = backward.fit(X_train, y_train)\n",
    "    print(str(i) + \" forward_k_score \" + str(sf_forward.k_score_) + \" backward_k_score \" + str(sf_backward.k_score_))\n",
    "    print(list(sf_forward.k_feature_names_))\n",
    "    print(list(sf_backward.k_feature_names_))"
   ],
   "id": "f452a450f4f876a1",
   "outputs": [
    {
     "name": "stderr",
     "output_type": "stream",
     "text": [
      "Features: 2/2"
     ]
    },
    {
     "name": "stdout",
     "output_type": "stream",
     "text": [
      "1 forward_k_score 0.7700927183899855 backward_k_score 0.7700927183899855\n",
      "['name']\n",
      "['name']\n"
     ]
    },
    {
     "name": "stderr",
     "output_type": "stream",
     "text": [
      "Features: 2/3"
     ]
    },
    {
     "name": "stdout",
     "output_type": "stream",
     "text": [
      "2 forward_k_score 0.7875436945330059 backward_k_score 0.7875436945330059\n",
      "['model', 'name']\n",
      "['model', 'name']\n"
     ]
    },
    {
     "name": "stderr",
     "output_type": "stream",
     "text": [
      "Features: 2/4"
     ]
    },
    {
     "name": "stdout",
     "output_type": "stream",
     "text": [
      "3 forward_k_score 0.7948783415795855 backward_k_score 0.7948783415795855\n",
      "['mileage [km]', 'model', 'name']\n",
      "['mileage [km]', 'model', 'name']\n"
     ]
    },
    {
     "name": "stderr",
     "output_type": "stream",
     "text": [
      "Features: 2/5"
     ]
    },
    {
     "name": "stdout",
     "output_type": "stream",
     "text": [
      "4 forward_k_score 0.7969816383420395 backward_k_score 0.7963305628504448\n",
      "['mileage [km]', 'model', 'name', 'year']\n",
      "['mileage [km]', 'model', 'name', 'horsepower [km]']\n"
     ]
    },
    {
     "name": "stderr",
     "output_type": "stream",
     "text": [
      "Features: 2/6"
     ]
    },
    {
     "name": "stdout",
     "output_type": "stream",
     "text": [
      "5 forward_k_score 0.7984638647161614 backward_k_score 0.7985290541345946\n",
      "['mileage [km]', 'model', 'name', 'year', 'region']\n",
      "['mileage [km]', 'model', 'name', 'engine_capacity [cm3]', 'horsepower [km]']\n"
     ]
    },
    {
     "name": "stderr",
     "output_type": "stream",
     "text": [
      "Features: 2/7"
     ]
    },
    {
     "name": "stdout",
     "output_type": "stream",
     "text": [
      "6 forward_k_score 0.7992296044947353 backward_k_score 0.8001966447864888\n",
      "['mileage [km]', 'model', 'name', 'year', 'horsepower [km]', 'region']\n",
      "['fuel_type', 'mileage [km]', 'model', 'name', 'engine_capacity [cm3]', 'horsepower [km]']\n"
     ]
    },
    {
     "name": "stderr",
     "output_type": "stream",
     "text": [
      "Features: 2/8"
     ]
    },
    {
     "name": "stdout",
     "output_type": "stream",
     "text": [
      "7 forward_k_score 0.8002427501822114 backward_k_score 0.8014425031346553\n",
      "['fuel_type', 'mileage [km]', 'model', 'name', 'year', 'horsepower [km]', 'region']\n",
      "['fuel_type', 'mileage [km]', 'model', 'name', 'engine_capacity [cm3]', 'horsepower [km]', 'region']\n"
     ]
    },
    {
     "name": "stderr",
     "output_type": "stream",
     "text": [
      "Features: 2/9"
     ]
    },
    {
     "name": "stdout",
     "output_type": "stream",
     "text": [
      "8 forward_k_score 0.8014887440166225 backward_k_score 0.8014887440166225\n",
      "['fuel_type', 'mileage [km]', 'model', 'name', 'year', 'engine_capacity [cm3]', 'horsepower [km]', 'region']\n",
      "['fuel_type', 'mileage [km]', 'model', 'name', 'year', 'engine_capacity [cm3]', 'horsepower [km]', 'region']\n"
     ]
    },
    {
     "name": "stderr",
     "output_type": "stream",
     "text": [
      "Features: 2/10"
     ]
    },
    {
     "name": "stdout",
     "output_type": "stream",
     "text": [
      "9 forward_k_score 0.8015793046455759 backward_k_score 0.8015793046455759\n",
      "['fuel_type', 'mileage [km]', 'model', 'name', 'year', 'engine_capacity [cm3]', 'horsepower [km]', 'is_gearbox_automatic', 'region']\n",
      "['fuel_type', 'mileage [km]', 'model', 'name', 'year', 'engine_capacity [cm3]', 'horsepower [km]', 'is_gearbox_automatic', 'region']\n"
     ]
    },
    {
     "name": "stderr",
     "output_type": "stream",
     "text": [
      "Features: 10/10"
     ]
    },
    {
     "name": "stdout",
     "output_type": "stream",
     "text": [
      "10 forward_k_score 0.8015187122788303 backward_k_score 0.8015187122788303\n",
      "['fuel_type', 'mileage [km]', 'model', 'name', 'seller_type', 'year', 'engine_capacity [cm3]', 'horsepower [km]', 'is_gearbox_automatic', 'region']\n",
      "['fuel_type', 'mileage [km]', 'model', 'name', 'seller_type', 'year', 'engine_capacity [cm3]', 'horsepower [km]', 'is_gearbox_automatic', 'region']\n"
     ]
    }
   ],
   "execution_count": 50
  },
  {
   "metadata": {
    "ExecuteTime": {
     "end_time": "2025-01-27T20:25:28.751528Z",
     "start_time": "2025-01-27T20:25:28.714327Z"
    }
   },
   "cell_type": "code",
   "source": [
    "regressor = sm.OLS(endog=y_train,exog=X_train[['fuel_type', 'mileage [km]', 'model', 'name', 'year', 'engine_capacity [cm3]', 'horsepower [km]', 'is_gearbox_automatic', 'region']]).fit()\n",
    "regressor.summary()"
   ],
   "id": "d89ac709aec318a9",
   "outputs": [
    {
     "data": {
      "text/plain": [
       "<class 'statsmodels.iolib.summary.Summary'>\n",
       "\"\"\"\n",
       "                                 OLS Regression Results                                \n",
       "=======================================================================================\n",
       "Dep. Variable:            price [pln]   R-squared (uncentered):                   0.855\n",
       "Model:                            OLS   Adj. R-squared (uncentered):              0.855\n",
       "Method:                 Least Squares   F-statistic:                              1606.\n",
       "Date:                Mon, 27 Jan 2025   Prob (F-statistic):                        0.00\n",
       "Time:                        21:25:28   Log-Likelihood:                         -32217.\n",
       "No. Observations:                2456   AIC:                                  6.445e+04\n",
       "Df Residuals:                    2447   BIC:                                  6.450e+04\n",
       "Df Model:                           9                                                  \n",
       "Covariance Type:            nonrobust                                                  \n",
       "=========================================================================================\n",
       "                            coef    std err          t      P>|t|      [0.025      0.975]\n",
       "-----------------------------------------------------------------------------------------\n",
       "fuel_type                -0.2317      0.049     -4.735      0.000      -0.328      -0.136\n",
       "mileage [km]             -0.2712      0.030     -8.952      0.000      -0.331      -0.212\n",
       "model                     0.2815      0.025     11.232      0.000       0.232       0.331\n",
       "name                      3.6117      0.077     46.616      0.000       3.460       3.764\n",
       "year                   -186.2243      6.925    -26.890      0.000    -199.805    -172.644\n",
       "engine_capacity [cm3]   -15.9897      2.814     -5.682      0.000     -21.508     -10.472\n",
       "horsepower [km]         289.7970     37.248      7.780      0.000     216.756     362.838\n",
       "is_gearbox_automatic  -8266.2544   5875.626     -1.407      0.160   -1.98e+04    3255.459\n",
       "region                    0.1955      0.051      3.831      0.000       0.095       0.296\n",
       "==============================================================================\n",
       "Omnibus:                     1473.017   Durbin-Watson:                   1.978\n",
       "Prob(Omnibus):                  0.000   Jarque-Bera (JB):           352203.209\n",
       "Skew:                           1.694   Prob(JB):                         0.00\n",
       "Kurtosis:                      61.568   Cond. No.                     7.77e+05\n",
       "==============================================================================\n",
       "\n",
       "Notes:\n",
       "[1] R² is computed without centering (uncentered) since the model does not contain a constant.\n",
       "[2] Standard Errors assume that the covariance matrix of the errors is correctly specified.\n",
       "[3] The condition number is large, 7.77e+05. This might indicate that there are\n",
       "strong multicollinearity or other numerical problems.\n",
       "\"\"\""
      ],
      "text/html": [
       "<table class=\"simpletable\">\n",
       "<caption>OLS Regression Results</caption>\n",
       "<tr>\n",
       "  <th>Dep. Variable:</th>       <td>price [pln]</td>   <th>  R-squared (uncentered):</th>      <td>   0.855</td> \n",
       "</tr>\n",
       "<tr>\n",
       "  <th>Model:</th>                   <td>OLS</td>       <th>  Adj. R-squared (uncentered):</th> <td>   0.855</td> \n",
       "</tr>\n",
       "<tr>\n",
       "  <th>Method:</th>             <td>Least Squares</td>  <th>  F-statistic:       </th>          <td>   1606.</td> \n",
       "</tr>\n",
       "<tr>\n",
       "  <th>Date:</th>             <td>Mon, 27 Jan 2025</td> <th>  Prob (F-statistic):</th>           <td>  0.00</td>  \n",
       "</tr>\n",
       "<tr>\n",
       "  <th>Time:</th>                 <td>21:25:28</td>     <th>  Log-Likelihood:    </th>          <td> -32217.</td> \n",
       "</tr>\n",
       "<tr>\n",
       "  <th>No. Observations:</th>      <td>  2456</td>      <th>  AIC:               </th>          <td>6.445e+04</td>\n",
       "</tr>\n",
       "<tr>\n",
       "  <th>Df Residuals:</th>          <td>  2447</td>      <th>  BIC:               </th>          <td>6.450e+04</td>\n",
       "</tr>\n",
       "<tr>\n",
       "  <th>Df Model:</th>              <td>     9</td>      <th>                     </th>              <td> </td>    \n",
       "</tr>\n",
       "<tr>\n",
       "  <th>Covariance Type:</th>      <td>nonrobust</td>    <th>                     </th>              <td> </td>    \n",
       "</tr>\n",
       "</table>\n",
       "<table class=\"simpletable\">\n",
       "<tr>\n",
       "            <td></td>               <th>coef</th>     <th>std err</th>      <th>t</th>      <th>P>|t|</th>  <th>[0.025</th>    <th>0.975]</th>  \n",
       "</tr>\n",
       "<tr>\n",
       "  <th>fuel_type</th>             <td>   -0.2317</td> <td>    0.049</td> <td>   -4.735</td> <td> 0.000</td> <td>   -0.328</td> <td>   -0.136</td>\n",
       "</tr>\n",
       "<tr>\n",
       "  <th>mileage [km]</th>          <td>   -0.2712</td> <td>    0.030</td> <td>   -8.952</td> <td> 0.000</td> <td>   -0.331</td> <td>   -0.212</td>\n",
       "</tr>\n",
       "<tr>\n",
       "  <th>model</th>                 <td>    0.2815</td> <td>    0.025</td> <td>   11.232</td> <td> 0.000</td> <td>    0.232</td> <td>    0.331</td>\n",
       "</tr>\n",
       "<tr>\n",
       "  <th>name</th>                  <td>    3.6117</td> <td>    0.077</td> <td>   46.616</td> <td> 0.000</td> <td>    3.460</td> <td>    3.764</td>\n",
       "</tr>\n",
       "<tr>\n",
       "  <th>year</th>                  <td> -186.2243</td> <td>    6.925</td> <td>  -26.890</td> <td> 0.000</td> <td> -199.805</td> <td> -172.644</td>\n",
       "</tr>\n",
       "<tr>\n",
       "  <th>engine_capacity [cm3]</th> <td>  -15.9897</td> <td>    2.814</td> <td>   -5.682</td> <td> 0.000</td> <td>  -21.508</td> <td>  -10.472</td>\n",
       "</tr>\n",
       "<tr>\n",
       "  <th>horsepower [km]</th>       <td>  289.7970</td> <td>   37.248</td> <td>    7.780</td> <td> 0.000</td> <td>  216.756</td> <td>  362.838</td>\n",
       "</tr>\n",
       "<tr>\n",
       "  <th>is_gearbox_automatic</th>  <td>-8266.2544</td> <td> 5875.626</td> <td>   -1.407</td> <td> 0.160</td> <td>-1.98e+04</td> <td> 3255.459</td>\n",
       "</tr>\n",
       "<tr>\n",
       "  <th>region</th>                <td>    0.1955</td> <td>    0.051</td> <td>    3.831</td> <td> 0.000</td> <td>    0.095</td> <td>    0.296</td>\n",
       "</tr>\n",
       "</table>\n",
       "<table class=\"simpletable\">\n",
       "<tr>\n",
       "  <th>Omnibus:</th>       <td>1473.017</td> <th>  Durbin-Watson:     </th>  <td>   1.978</td> \n",
       "</tr>\n",
       "<tr>\n",
       "  <th>Prob(Omnibus):</th>  <td> 0.000</td>  <th>  Jarque-Bera (JB):  </th> <td>352203.209</td>\n",
       "</tr>\n",
       "<tr>\n",
       "  <th>Skew:</th>           <td> 1.694</td>  <th>  Prob(JB):          </th>  <td>    0.00</td> \n",
       "</tr>\n",
       "<tr>\n",
       "  <th>Kurtosis:</th>       <td>61.568</td>  <th>  Cond. No.          </th>  <td>7.77e+05</td> \n",
       "</tr>\n",
       "</table><br/><br/>Notes:<br/>[1] R² is computed without centering (uncentered) since the model does not contain a constant.<br/>[2] Standard Errors assume that the covariance matrix of the errors is correctly specified.<br/>[3] The condition number is large, 7.77e+05. This might indicate that there are<br/>strong multicollinearity or other numerical problems."
      ],
      "text/latex": "\\begin{center}\n\\begin{tabular}{lclc}\n\\toprule\n\\textbf{Dep. Variable:}         &   price [pln]    & \\textbf{  R-squared (uncentered):}      &     0.855   \\\\\n\\textbf{Model:}                 &       OLS        & \\textbf{  Adj. R-squared (uncentered):} &     0.855   \\\\\n\\textbf{Method:}                &  Least Squares   & \\textbf{  F-statistic:       }          &     1606.   \\\\\n\\textbf{Date:}                  & Mon, 27 Jan 2025 & \\textbf{  Prob (F-statistic):}          &     0.00    \\\\\n\\textbf{Time:}                  &     21:25:28     & \\textbf{  Log-Likelihood:    }          &   -32217.   \\\\\n\\textbf{No. Observations:}      &        2456      & \\textbf{  AIC:               }          & 6.445e+04   \\\\\n\\textbf{Df Residuals:}          &        2447      & \\textbf{  BIC:               }          & 6.450e+04   \\\\\n\\textbf{Df Model:}              &           9      & \\textbf{                     }          &             \\\\\n\\textbf{Covariance Type:}       &    nonrobust     & \\textbf{                     }          &             \\\\\n\\bottomrule\n\\end{tabular}\n\\begin{tabular}{lcccccc}\n                                & \\textbf{coef} & \\textbf{std err} & \\textbf{t} & \\textbf{P$> |$t$|$} & \\textbf{[0.025} & \\textbf{0.975]}  \\\\\n\\midrule\n\\textbf{fuel\\_type}             &      -0.2317  &        0.049     &    -4.735  &         0.000        &       -0.328    &       -0.136     \\\\\n\\textbf{mileage [km]}           &      -0.2712  &        0.030     &    -8.952  &         0.000        &       -0.331    &       -0.212     \\\\\n\\textbf{model}                  &       0.2815  &        0.025     &    11.232  &         0.000        &        0.232    &        0.331     \\\\\n\\textbf{name}                   &       3.6117  &        0.077     &    46.616  &         0.000        &        3.460    &        3.764     \\\\\n\\textbf{year}                   &    -186.2243  &        6.925     &   -26.890  &         0.000        &     -199.805    &     -172.644     \\\\\n\\textbf{engine\\_capacity [cm3]} &     -15.9897  &        2.814     &    -5.682  &         0.000        &      -21.508    &      -10.472     \\\\\n\\textbf{horsepower [km]}        &     289.7970  &       37.248     &     7.780  &         0.000        &      216.756    &      362.838     \\\\\n\\textbf{is\\_gearbox\\_automatic} &   -8266.2544  &     5875.626     &    -1.407  &         0.160        &    -1.98e+04    &     3255.459     \\\\\n\\textbf{region}                 &       0.1955  &        0.051     &     3.831  &         0.000        &        0.095    &        0.296     \\\\\n\\bottomrule\n\\end{tabular}\n\\begin{tabular}{lclc}\n\\textbf{Omnibus:}       & 1473.017 & \\textbf{  Durbin-Watson:     } &     1.978   \\\\\n\\textbf{Prob(Omnibus):} &   0.000  & \\textbf{  Jarque-Bera (JB):  } & 352203.209  \\\\\n\\textbf{Skew:}          &   1.694  & \\textbf{  Prob(JB):          } &      0.00   \\\\\n\\textbf{Kurtosis:}      &  61.568  & \\textbf{  Cond. No.          } &  7.77e+05   \\\\\n\\bottomrule\n\\end{tabular}\n%\\caption{OLS Regression Results}\n\\end{center}\n\nNotes: \\newline\n [1] R² is computed without centering (uncentered) since the model does not contain a constant. \\newline\n [2] Standard Errors assume that the covariance matrix of the errors is correctly specified. \\newline\n [3] The condition number is large, 7.77e+05. This might indicate that there are \\newline\n strong multicollinearity or other numerical problems."
     },
     "execution_count": 51,
     "metadata": {},
     "output_type": "execute_result"
    }
   ],
   "execution_count": 51
  }
 ],
 "metadata": {
  "kernelspec": {
   "display_name": "Python 3",
   "language": "python",
   "name": "python3"
  },
  "language_info": {
   "codemirror_mode": {
    "name": "ipython",
    "version": 2
   },
   "file_extension": ".py",
   "mimetype": "text/x-python",
   "name": "python",
   "nbconvert_exporter": "python",
   "pygments_lexer": "ipython2",
   "version": "2.7.6"
  }
 },
 "nbformat": 4,
 "nbformat_minor": 5
}
