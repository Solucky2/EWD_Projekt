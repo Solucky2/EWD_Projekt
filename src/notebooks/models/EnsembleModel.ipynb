{
 "cells": [
  {
   "cell_type": "code",
   "id": "initial_id",
   "metadata": {
    "collapsed": true,
    "ExecuteTime": {
     "end_time": "2025-01-28T17:21:49.361124Z",
     "start_time": "2025-01-28T17:21:49.338868Z"
    }
   },
   "source": [
    "from sklearn.model_selection import train_test_split\n",
    "from sklearn.linear_model import LinearRegression\n",
    "from sklearn.tree import DecisionTreeRegressor\n",
    "from sklearn.svm import SVR\n",
    "from sklearn.ensemble import VotingRegressor\n",
    "import statsmodels.api as sm\n",
    "import pandas as pd\n",
    "import numpy as np\n"
   ],
   "outputs": [],
   "execution_count": 9
  },
  {
   "metadata": {
    "ExecuteTime": {
     "end_time": "2025-01-28T17:17:05.993271Z",
     "start_time": "2025-01-28T17:17:05.961436Z"
    }
   },
   "cell_type": "code",
   "source": [
    "df = pd.read_csv(r'../cleaned/output_encoded.csv')\n",
    "df.head()"
   ],
   "id": "164eebbb37fd4fb6",
   "outputs": [],
   "execution_count": 2
  },
  {
   "metadata": {
    "ExecuteTime": {
     "end_time": "2025-01-28T17:20:55.434862Z",
     "start_time": "2025-01-28T17:20:55.410866Z"
    }
   },
   "cell_type": "code",
   "source": [
    "y = df['price [pln]']\n",
    "X = df.drop(columns=['price [pln]'])\n",
    "X_test, X_train, y_test, y_train = train_test_split(X, y, test_size=0.2, random_state=42)"
   ],
   "id": "9c4639c9bdea5c60",
   "outputs": [],
   "execution_count": 6
  },
  {
   "metadata": {
    "ExecuteTime": {
     "end_time": "2025-01-28T21:04:31.636973Z",
     "start_time": "2025-01-28T21:04:31.612806Z"
    }
   },
   "cell_type": "code",
   "source": [
    "linear_regression = LinearRegression()\n",
    "tree_model = DecisionTreeRegressor(random_state = 42, ccp_alpha=35370555.103148766)\n",
    "svr_model = SVR(kernel='rbf', C=11, epsilon=0.1, gamma=0.1)\n",
    "\n",
    "ensemble_model = VotingRegressor(estimators=[('lr', linear_regression), ('dt', tree_model), ('svc', svr_model)])"
   ],
   "id": "70e402ca0659ac93",
   "outputs": [],
   "execution_count": 21
  },
  {
   "metadata": {
    "ExecuteTime": {
     "end_time": "2025-01-28T21:04:32.988021Z",
     "start_time": "2025-01-28T21:04:32.777237Z"
    }
   },
   "cell_type": "code",
   "source": [
    "ensemble_model.fit(X_train, y_train)\n",
    "\n",
    "# Evaluate the performance of the ensemble on the testing data\n",
    "print(f\"Accuracy of the ensemble: {ensemble_model.score(X_test, y_test)*100} %\")"
   ],
   "id": "14fa9803290c38a8",
   "outputs": [
    {
     "name": "stdout",
     "output_type": "stream",
     "text": [
      "Accuracy of the ensemble: 77.79312338167188 %\n"
     ]
    }
   ],
   "execution_count": 22
  }
 ],
 "metadata": {
  "kernelspec": {
   "display_name": "Python 3",
   "language": "python",
   "name": "python3"
  },
  "language_info": {
   "codemirror_mode": {
    "name": "ipython",
    "version": 2
   },
   "file_extension": ".py",
   "mimetype": "text/x-python",
   "name": "python",
   "nbconvert_exporter": "python",
   "pygments_lexer": "ipython2",
   "version": "2.7.6"
  }
 },
 "nbformat": 4,
 "nbformat_minor": 5
}
