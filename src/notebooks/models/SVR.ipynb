{
 "cells": [
  {
   "cell_type": "code",
   "id": "initial_id",
   "metadata": {
    "collapsed": true,
    "ExecuteTime": {
     "end_time": "2025-01-28T16:40:59.173856Z",
     "start_time": "2025-01-28T16:40:43.918808Z"
    }
   },
   "source": [
    "from sklearn.svm import SVR\n",
    "from sklearn.preprocessing import StandardScaler\n",
    "from sklearn.metrics import mean_squared_error\n",
    "from sklearn.model_selection import train_test_split\n",
    "from sklearn.model_selection import GridSearchCV\n",
    "import pandas as pd\n",
    "import numpy as np"
   ],
   "outputs": [],
   "execution_count": 2
  },
  {
   "metadata": {
    "ExecuteTime": {
     "end_time": "2025-01-28T16:40:59.252312Z",
     "start_time": "2025-01-28T16:40:59.184776Z"
    }
   },
   "cell_type": "code",
   "source": [
    "df = pd.read_csv(r'../cleaned/output_encoded.csv')\n",
    "df.head()"
   ],
   "id": "773fe532c6670478",
   "outputs": [
    {
     "data": {
      "text/plain": [
       "       fuel_type  mileage [km]          model           name  price [pln]  \\\n",
       "0  178162.801039         62000  101613.193302   85505.357299        63000   \n",
       "1  178162.801039         56800  101613.193302  133323.671059        99000   \n",
       "2  178162.801039         59000  101613.193302   85505.357299        71000   \n",
       "3  178162.801039         80089  101613.193302   85505.357299        59500   \n",
       "4  178162.801039         33000  101613.193302   85505.357299        70000   \n",
       "\n",
       "     seller_type  year  engine_capacity [cm3]  horsepower [km]  \\\n",
       "0   90852.118289  2019                   1368              145   \n",
       "1   90852.118289  2018                   1368              165   \n",
       "2   90852.118289  2018                   1368              165   \n",
       "3   90852.118289  2016                   1368              164   \n",
       "4  265742.166860  2021                   1368              145   \n",
       "\n",
       "   is_gearbox_automatic         region  \n",
       "0                     0   80689.855237  \n",
       "1                     0  128266.815789  \n",
       "2                     0  215862.601274  \n",
       "3                     0  128266.815789  \n",
       "4                     0  104437.423222  "
      ],
      "text/html": [
       "<div>\n",
       "<style scoped>\n",
       "    .dataframe tbody tr th:only-of-type {\n",
       "        vertical-align: middle;\n",
       "    }\n",
       "\n",
       "    .dataframe tbody tr th {\n",
       "        vertical-align: top;\n",
       "    }\n",
       "\n",
       "    .dataframe thead th {\n",
       "        text-align: right;\n",
       "    }\n",
       "</style>\n",
       "<table border=\"1\" class=\"dataframe\">\n",
       "  <thead>\n",
       "    <tr style=\"text-align: right;\">\n",
       "      <th></th>\n",
       "      <th>fuel_type</th>\n",
       "      <th>mileage [km]</th>\n",
       "      <th>model</th>\n",
       "      <th>name</th>\n",
       "      <th>price [pln]</th>\n",
       "      <th>seller_type</th>\n",
       "      <th>year</th>\n",
       "      <th>engine_capacity [cm3]</th>\n",
       "      <th>horsepower [km]</th>\n",
       "      <th>is_gearbox_automatic</th>\n",
       "      <th>region</th>\n",
       "    </tr>\n",
       "  </thead>\n",
       "  <tbody>\n",
       "    <tr>\n",
       "      <th>0</th>\n",
       "      <td>178162.801039</td>\n",
       "      <td>62000</td>\n",
       "      <td>101613.193302</td>\n",
       "      <td>85505.357299</td>\n",
       "      <td>63000</td>\n",
       "      <td>90852.118289</td>\n",
       "      <td>2019</td>\n",
       "      <td>1368</td>\n",
       "      <td>145</td>\n",
       "      <td>0</td>\n",
       "      <td>80689.855237</td>\n",
       "    </tr>\n",
       "    <tr>\n",
       "      <th>1</th>\n",
       "      <td>178162.801039</td>\n",
       "      <td>56800</td>\n",
       "      <td>101613.193302</td>\n",
       "      <td>133323.671059</td>\n",
       "      <td>99000</td>\n",
       "      <td>90852.118289</td>\n",
       "      <td>2018</td>\n",
       "      <td>1368</td>\n",
       "      <td>165</td>\n",
       "      <td>0</td>\n",
       "      <td>128266.815789</td>\n",
       "    </tr>\n",
       "    <tr>\n",
       "      <th>2</th>\n",
       "      <td>178162.801039</td>\n",
       "      <td>59000</td>\n",
       "      <td>101613.193302</td>\n",
       "      <td>85505.357299</td>\n",
       "      <td>71000</td>\n",
       "      <td>90852.118289</td>\n",
       "      <td>2018</td>\n",
       "      <td>1368</td>\n",
       "      <td>165</td>\n",
       "      <td>0</td>\n",
       "      <td>215862.601274</td>\n",
       "    </tr>\n",
       "    <tr>\n",
       "      <th>3</th>\n",
       "      <td>178162.801039</td>\n",
       "      <td>80089</td>\n",
       "      <td>101613.193302</td>\n",
       "      <td>85505.357299</td>\n",
       "      <td>59500</td>\n",
       "      <td>90852.118289</td>\n",
       "      <td>2016</td>\n",
       "      <td>1368</td>\n",
       "      <td>164</td>\n",
       "      <td>0</td>\n",
       "      <td>128266.815789</td>\n",
       "    </tr>\n",
       "    <tr>\n",
       "      <th>4</th>\n",
       "      <td>178162.801039</td>\n",
       "      <td>33000</td>\n",
       "      <td>101613.193302</td>\n",
       "      <td>85505.357299</td>\n",
       "      <td>70000</td>\n",
       "      <td>265742.166860</td>\n",
       "      <td>2021</td>\n",
       "      <td>1368</td>\n",
       "      <td>145</td>\n",
       "      <td>0</td>\n",
       "      <td>104437.423222</td>\n",
       "    </tr>\n",
       "  </tbody>\n",
       "</table>\n",
       "</div>"
      ]
     },
     "execution_count": 3,
     "metadata": {},
     "output_type": "execute_result"
    }
   ],
   "execution_count": 3
  },
  {
   "metadata": {
    "ExecuteTime": {
     "end_time": "2025-01-28T16:40:59.344854Z",
     "start_time": "2025-01-28T16:40:59.317762Z"
    }
   },
   "cell_type": "code",
   "source": [
    "scaler_x = StandardScaler()\n",
    "scaler_y = StandardScaler()\n",
    "\n",
    "y = df['price [pln]'].values\n",
    "X = df.drop(columns=['price [pln]'])\n",
    "\n",
    "X_train, X_test, y_train, y_test = train_test_split(X, y, test_size=0.2, random_state=42)\n",
    "\n",
    "X_train_scaled = scaler_x.fit_transform(X_train)\n",
    "X_test_scaled = scaler_x.transform(X_test)\n",
    "\n",
    "y_train_scaled = scaler_y.fit_transform(y_train.reshape(-1, 1)).ravel()\n",
    "y_test_scaled = scaler_y.transform(y_test.reshape(-1, 1)).ravel()"
   ],
   "id": "6fc2262de22c9b2c",
   "outputs": [],
   "execution_count": 4
  },
  {
   "metadata": {
    "ExecuteTime": {
     "end_time": "2025-01-28T21:01:32.373663Z",
     "start_time": "2025-01-28T20:27:01.846525Z"
    }
   },
   "cell_type": "code",
   "source": [
    "param_grid = {\n",
    "    \"C\": np.arange(1, 100.0, 1.0),\n",
    "    \"epsilon\": np.arange(0.0, 1.0, 0.1),\n",
    "    \"gamma\": np.arange(0.0, 1.0, 0.1),\n",
    "}\n",
    "\n",
    "svr = SVR(kernel='rbf')\n",
    "grid_search = GridSearchCV(svr, param_grid, cv=5, scoring='neg_mean_squared_error')\n",
    "grid_search.fit(X_train_scaled, y_train_scaled)\n",
    "\n",
    "print(grid_search.best_estimator_)\n",
    "best_svr = grid_search.best_estimator_"
   ],
   "id": "df7dc6e8b9590680",
   "outputs": [
    {
     "name": "stdout",
     "output_type": "stream",
     "text": [
      "SVR(C=np.float64(11.0), epsilon=np.float64(0.1), gamma=np.float64(0.1))\n"
     ]
    }
   ],
   "execution_count": 12
  },
  {
   "metadata": {
    "ExecuteTime": {
     "end_time": "2025-01-28T21:03:56.927561Z",
     "start_time": "2025-01-28T21:03:56.724972Z"
    }
   },
   "cell_type": "code",
   "source": [
    "svr = SVR(kernel='rbf', C=11, epsilon=0.1, gamma=0.1)\n",
    "\n",
    "svr.fit(X_train_scaled, y_train_scaled)\n",
    "y_pred_scaled = svr.predict(X_test_scaled)\n",
    "y_pred = scaler_y.inverse_transform(y_pred_scaled.reshape(-1, 1)).ravel()\n",
    "\n",
    "rmse = np.sqrt(mean_squared_error(y_test, y_pred))\n",
    "print(f\"RMSE dla SVR: {rmse}\")"
   ],
   "id": "3bf7c32bc35e2ed3",
   "outputs": [
    {
     "name": "stdout",
     "output_type": "stream",
     "text": [
      "RMSE dla SVR: 86382.01461525857\n"
     ]
    }
   ],
   "execution_count": 13
  },
  {
   "metadata": {
    "ExecuteTime": {
     "end_time": "2025-01-28T21:04:01.846956Z",
     "start_time": "2025-01-28T21:04:01.770521Z"
    }
   },
   "cell_type": "code",
   "source": "svr.score(X_test_scaled, y_test_scaled)",
   "id": "bb1922d64fbc794d",
   "outputs": [
    {
     "data": {
      "text/plain": [
       "0.9200707434473265"
      ]
     },
     "execution_count": 14,
     "metadata": {},
     "output_type": "execute_result"
    }
   ],
   "execution_count": 14
  }
 ],
 "metadata": {
  "kernelspec": {
   "display_name": "Python 3",
   "language": "python",
   "name": "python3"
  },
  "language_info": {
   "codemirror_mode": {
    "name": "ipython",
    "version": 2
   },
   "file_extension": ".py",
   "mimetype": "text/x-python",
   "name": "python",
   "nbconvert_exporter": "python",
   "pygments_lexer": "ipython2",
   "version": "2.7.6"
  }
 },
 "nbformat": 4,
 "nbformat_minor": 5
}
