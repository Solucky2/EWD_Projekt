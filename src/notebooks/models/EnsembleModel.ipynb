{
 "cells": [
  {
   "cell_type": "code",
   "id": "initial_id",
   "metadata": {
    "collapsed": true,
    "ExecuteTime": {
     "end_time": "2025-01-29T17:49:10.962080Z",
     "start_time": "2025-01-29T17:49:05.962537Z"
    }
   },
   "source": [
    "from sklearn.model_selection import train_test_split\n",
    "from sklearn.linear_model import LinearRegression\n",
    "from sklearn.tree import DecisionTreeRegressor\n",
    "from sklearn.svm import SVR\n",
    "from sklearn.ensemble import VotingRegressor\n",
    "import pandas as pd\n"
   ],
   "outputs": [],
   "execution_count": 2
  },
  {
   "metadata": {
    "ExecuteTime": {
     "end_time": "2025-01-29T17:49:11.008482Z",
     "start_time": "2025-01-29T17:49:10.969290Z"
    }
   },
   "cell_type": "code",
   "source": [
    "df = pd.read_csv(r'../cleaned/output_encoded.csv')\n",
    "df.head()"
   ],
   "id": "164eebbb37fd4fb6",
   "outputs": [
    {
     "data": {
      "text/plain": [
       "       fuel_type  mileage [km]          model           name  price [pln]  \\\n",
       "0  178162.801039         62000  101613.193302   85505.357299        63000   \n",
       "1  178162.801039         56800  101613.193302  133323.671059        99000   \n",
       "2  178162.801039         59000  101613.193302   85505.357299        71000   \n",
       "3  178162.801039         80089  101613.193302   85505.357299        59500   \n",
       "4  178162.801039         33000  101613.193302   85505.357299        70000   \n",
       "\n",
       "     seller_type  year  engine_capacity [cm3]  horsepower [km]  \\\n",
       "0   90852.118289  2019                   1368              145   \n",
       "1   90852.118289  2018                   1368              165   \n",
       "2   90852.118289  2018                   1368              165   \n",
       "3   90852.118289  2016                   1368              164   \n",
       "4  265742.166860  2021                   1368              145   \n",
       "\n",
       "   is_gearbox_automatic         region  \n",
       "0                     0   80689.855237  \n",
       "1                     0  128266.815789  \n",
       "2                     0  215862.601274  \n",
       "3                     0  128266.815789  \n",
       "4                     0  104437.423222  "
      ],
      "text/html": [
       "<div>\n",
       "<style scoped>\n",
       "    .dataframe tbody tr th:only-of-type {\n",
       "        vertical-align: middle;\n",
       "    }\n",
       "\n",
       "    .dataframe tbody tr th {\n",
       "        vertical-align: top;\n",
       "    }\n",
       "\n",
       "    .dataframe thead th {\n",
       "        text-align: right;\n",
       "    }\n",
       "</style>\n",
       "<table border=\"1\" class=\"dataframe\">\n",
       "  <thead>\n",
       "    <tr style=\"text-align: right;\">\n",
       "      <th></th>\n",
       "      <th>fuel_type</th>\n",
       "      <th>mileage [km]</th>\n",
       "      <th>model</th>\n",
       "      <th>name</th>\n",
       "      <th>price [pln]</th>\n",
       "      <th>seller_type</th>\n",
       "      <th>year</th>\n",
       "      <th>engine_capacity [cm3]</th>\n",
       "      <th>horsepower [km]</th>\n",
       "      <th>is_gearbox_automatic</th>\n",
       "      <th>region</th>\n",
       "    </tr>\n",
       "  </thead>\n",
       "  <tbody>\n",
       "    <tr>\n",
       "      <th>0</th>\n",
       "      <td>178162.801039</td>\n",
       "      <td>62000</td>\n",
       "      <td>101613.193302</td>\n",
       "      <td>85505.357299</td>\n",
       "      <td>63000</td>\n",
       "      <td>90852.118289</td>\n",
       "      <td>2019</td>\n",
       "      <td>1368</td>\n",
       "      <td>145</td>\n",
       "      <td>0</td>\n",
       "      <td>80689.855237</td>\n",
       "    </tr>\n",
       "    <tr>\n",
       "      <th>1</th>\n",
       "      <td>178162.801039</td>\n",
       "      <td>56800</td>\n",
       "      <td>101613.193302</td>\n",
       "      <td>133323.671059</td>\n",
       "      <td>99000</td>\n",
       "      <td>90852.118289</td>\n",
       "      <td>2018</td>\n",
       "      <td>1368</td>\n",
       "      <td>165</td>\n",
       "      <td>0</td>\n",
       "      <td>128266.815789</td>\n",
       "    </tr>\n",
       "    <tr>\n",
       "      <th>2</th>\n",
       "      <td>178162.801039</td>\n",
       "      <td>59000</td>\n",
       "      <td>101613.193302</td>\n",
       "      <td>85505.357299</td>\n",
       "      <td>71000</td>\n",
       "      <td>90852.118289</td>\n",
       "      <td>2018</td>\n",
       "      <td>1368</td>\n",
       "      <td>165</td>\n",
       "      <td>0</td>\n",
       "      <td>215862.601274</td>\n",
       "    </tr>\n",
       "    <tr>\n",
       "      <th>3</th>\n",
       "      <td>178162.801039</td>\n",
       "      <td>80089</td>\n",
       "      <td>101613.193302</td>\n",
       "      <td>85505.357299</td>\n",
       "      <td>59500</td>\n",
       "      <td>90852.118289</td>\n",
       "      <td>2016</td>\n",
       "      <td>1368</td>\n",
       "      <td>164</td>\n",
       "      <td>0</td>\n",
       "      <td>128266.815789</td>\n",
       "    </tr>\n",
       "    <tr>\n",
       "      <th>4</th>\n",
       "      <td>178162.801039</td>\n",
       "      <td>33000</td>\n",
       "      <td>101613.193302</td>\n",
       "      <td>85505.357299</td>\n",
       "      <td>70000</td>\n",
       "      <td>265742.166860</td>\n",
       "      <td>2021</td>\n",
       "      <td>1368</td>\n",
       "      <td>145</td>\n",
       "      <td>0</td>\n",
       "      <td>104437.423222</td>\n",
       "    </tr>\n",
       "  </tbody>\n",
       "</table>\n",
       "</div>"
      ]
     },
     "execution_count": 3,
     "metadata": {},
     "output_type": "execute_result"
    }
   ],
   "execution_count": 3
  },
  {
   "metadata": {
    "ExecuteTime": {
     "end_time": "2025-01-29T17:49:11.117641Z",
     "start_time": "2025-01-29T17:49:11.088690Z"
    }
   },
   "cell_type": "code",
   "source": [
    "y = df['price [pln]']\n",
    "X = df.drop(columns=['price [pln]'])\n",
    "X_test, X_train, y_test, y_train = train_test_split(X, y, test_size=0.2, random_state=42)"
   ],
   "id": "9c4639c9bdea5c60",
   "outputs": [],
   "execution_count": 4
  },
  {
   "metadata": {
    "ExecuteTime": {
     "end_time": "2025-01-29T17:49:11.223618Z",
     "start_time": "2025-01-29T17:49:11.200364Z"
    }
   },
   "cell_type": "code",
   "source": [
    "linear_regression = LinearRegression()\n",
    "tree_model = DecisionTreeRegressor(random_state = 42, ccp_alpha=35370555.103148766)\n",
    "svr_model = SVR(kernel='rbf', C=11, epsilon=0.1, gamma=0.1)\n",
    "\n",
    "ensemble_model = VotingRegressor(estimators=[('lr', linear_regression), ('dt', tree_model), ('svc', svr_model)])"
   ],
   "id": "70e402ca0659ac93",
   "outputs": [],
   "execution_count": 5
  },
  {
   "metadata": {
    "ExecuteTime": {
     "end_time": "2025-01-29T17:49:11.956547Z",
     "start_time": "2025-01-29T17:49:11.444415Z"
    }
   },
   "cell_type": "code",
   "source": [
    "ensemble_model.fit(X_train, y_train)\n",
    "print(f\"Accuracy of the ensemble: {ensemble_model.score(X_test, y_test)}\")"
   ],
   "id": "14fa9803290c38a8",
   "outputs": [
    {
     "name": "stdout",
     "output_type": "stream",
     "text": [
      "Accuracy of the ensemble: 0.7779312338167187\n"
     ]
    }
   ],
   "execution_count": 6
  }
 ],
 "metadata": {
  "kernelspec": {
   "display_name": "Python 3",
   "language": "python",
   "name": "python3"
  },
  "language_info": {
   "codemirror_mode": {
    "name": "ipython",
    "version": 2
   },
   "file_extension": ".py",
   "mimetype": "text/x-python",
   "name": "python",
   "nbconvert_exporter": "python",
   "pygments_lexer": "ipython2",
   "version": "2.7.6"
  }
 },
 "nbformat": 4,
 "nbformat_minor": 5
}
